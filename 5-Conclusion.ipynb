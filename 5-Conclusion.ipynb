{
 "cells": [
  {
   "cell_type": "markdown",
   "metadata": {},
   "source": [
    "# Conclusion"
   ]
  },
  {
   "cell_type": "raw",
   "metadata": {},
   "source": [
    "Nous cloturons ici notre premier exercice, une derniére soumission à Kaggle a été faite, j'ai simplement, arrondis toutes les données à 4 chiffres aprés la virgule, afin de rendre un peu plus précis certaines opérations de l'algorithme.\n",
    "\n",
    "Résultat 0.86010"
   ]
  },
  {
   "cell_type": "raw",
   "metadata": {},
   "source": [
    "----------------"
   ]
  },
  {
   "cell_type": "raw",
   "metadata": {},
   "source": [
    "Classement : 197 / 924"
   ]
  },
  {
   "cell_type": "raw",
   "metadata": {},
   "source": [
    "----------------"
   ]
  },
  {
   "cell_type": "raw",
   "metadata": {},
   "source": [
    "Bilan : Sur notre promotion j'obtiens le 2 émé meilleur score (Bravo a Medhi pour sa premiére place, il est classé 119)\n",
    "j'obtient le meilleur C.A avec le seuil optimisé : 10 163 000 \n",
    "Et le meilleur A.U.C : 0.88048\n",
    "\n",
    "Resultat de la promotion : https://docs.google.com/spreadsheets/d/1XuezFZKoyRtHubATAl1nIZkhrcRa_s9dN2qbhoOe1Sg/edit#gid=0\n",
    "Je suis à la ligne 29."
   ]
  },
  {
   "cell_type": "code",
   "execution_count": null,
   "metadata": {},
   "outputs": [],
   "source": []
  }
 ],
 "metadata": {
  "kernelspec": {
   "display_name": "Python 3",
   "language": "python",
   "name": "python3"
  },
  "language_info": {
   "codemirror_mode": {
    "name": "ipython",
    "version": 3
   },
   "file_extension": ".py",
   "mimetype": "text/x-python",
   "name": "python",
   "nbconvert_exporter": "python",
   "pygments_lexer": "ipython3",
   "version": "3.7.4"
  }
 },
 "nbformat": 4,
 "nbformat_minor": 2
}
